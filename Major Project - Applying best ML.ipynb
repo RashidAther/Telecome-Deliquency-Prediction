{
 "cells": [
  {
   "cell_type": "code",
   "execution_count": 11,
   "id": "985b7346",
   "metadata": {},
   "outputs": [],
   "source": [
    "import pandas as pd\n",
    "import numpy as np\n",
    "import seaborn as sns\n",
    "import matplotlib.pyplot as plt\n",
    "%matplotlib inline\n",
    "import warnings \n",
    "warnings.filterwarnings('ignore')"
   ]
  },
  {
   "cell_type": "code",
   "execution_count": 12,
   "id": "8e68923f",
   "metadata": {},
   "outputs": [
    {
     "data": {
      "text/html": [
       "<div>\n",
       "<style scoped>\n",
       "    .dataframe tbody tr th:only-of-type {\n",
       "        vertical-align: middle;\n",
       "    }\n",
       "\n",
       "    .dataframe tbody tr th {\n",
       "        vertical-align: top;\n",
       "    }\n",
       "\n",
       "    .dataframe thead th {\n",
       "        text-align: right;\n",
       "    }\n",
       "</style>\n",
       "<table border=\"1\" class=\"dataframe\">\n",
       "  <thead>\n",
       "    <tr style=\"text-align: right;\">\n",
       "      <th></th>\n",
       "      <th>label</th>\n",
       "      <th>msisdn</th>\n",
       "      <th>aon</th>\n",
       "      <th>daily_decr30</th>\n",
       "      <th>daily_decr90</th>\n",
       "      <th>rental30</th>\n",
       "      <th>rental90</th>\n",
       "      <th>last_rech_date_ma</th>\n",
       "      <th>last_rech_date_da</th>\n",
       "      <th>last_rech_amt_ma</th>\n",
       "      <th>...</th>\n",
       "      <th>maxamnt_loans30</th>\n",
       "      <th>medianamnt_loans30</th>\n",
       "      <th>cnt_loans90</th>\n",
       "      <th>amnt_loans90</th>\n",
       "      <th>maxamnt_loans90</th>\n",
       "      <th>medianamnt_loans90</th>\n",
       "      <th>payback30</th>\n",
       "      <th>payback90</th>\n",
       "      <th>pcircle</th>\n",
       "      <th>pdate</th>\n",
       "    </tr>\n",
       "  </thead>\n",
       "  <tbody>\n",
       "    <tr>\n",
       "      <th>1</th>\n",
       "      <td>0</td>\n",
       "      <td>2140870789</td>\n",
       "      <td>272.0</td>\n",
       "      <td>3055.05</td>\n",
       "      <td>3065.15</td>\n",
       "      <td>220.13</td>\n",
       "      <td>260.13</td>\n",
       "      <td>2.0</td>\n",
       "      <td>0.0</td>\n",
       "      <td>1539</td>\n",
       "      <td>...</td>\n",
       "      <td>6.0</td>\n",
       "      <td>0.0</td>\n",
       "      <td>2.0</td>\n",
       "      <td>12</td>\n",
       "      <td>6</td>\n",
       "      <td>0.0</td>\n",
       "      <td>29.0</td>\n",
       "      <td>29.0</td>\n",
       "      <td>UPW</td>\n",
       "      <td>16-07-20</td>\n",
       "    </tr>\n",
       "    <tr>\n",
       "      <th>2</th>\n",
       "      <td>1</td>\n",
       "      <td>7646270374</td>\n",
       "      <td>712.0</td>\n",
       "      <td>12122.00</td>\n",
       "      <td>12124.75</td>\n",
       "      <td>3691.26</td>\n",
       "      <td>3691.26</td>\n",
       "      <td>20.0</td>\n",
       "      <td>0.0</td>\n",
       "      <td>5787</td>\n",
       "      <td>...</td>\n",
       "      <td>12.0</td>\n",
       "      <td>0.0</td>\n",
       "      <td>1.0</td>\n",
       "      <td>12</td>\n",
       "      <td>12</td>\n",
       "      <td>0.0</td>\n",
       "      <td>0.0</td>\n",
       "      <td>0.0</td>\n",
       "      <td>UPW</td>\n",
       "      <td>16-08-10</td>\n",
       "    </tr>\n",
       "    <tr>\n",
       "      <th>3</th>\n",
       "      <td>1</td>\n",
       "      <td>1794370372</td>\n",
       "      <td>535.0</td>\n",
       "      <td>1398.00</td>\n",
       "      <td>1398.00</td>\n",
       "      <td>900.13</td>\n",
       "      <td>900.13</td>\n",
       "      <td>3.0</td>\n",
       "      <td>0.0</td>\n",
       "      <td>1539</td>\n",
       "      <td>...</td>\n",
       "      <td>6.0</td>\n",
       "      <td>0.0</td>\n",
       "      <td>1.0</td>\n",
       "      <td>6</td>\n",
       "      <td>6</td>\n",
       "      <td>0.0</td>\n",
       "      <td>0.0</td>\n",
       "      <td>0.0</td>\n",
       "      <td>UPW</td>\n",
       "      <td>16-08-19</td>\n",
       "    </tr>\n",
       "  </tbody>\n",
       "</table>\n",
       "<p>3 rows × 36 columns</p>\n",
       "</div>"
      ],
      "text/plain": [
       "   label      msisdn    aon  daily_decr30  daily_decr90  rental30  rental90  \\\n",
       "1      0  2140870789  272.0       3055.05       3065.15    220.13    260.13   \n",
       "2      1  7646270374  712.0      12122.00      12124.75   3691.26   3691.26   \n",
       "3      1  1794370372  535.0       1398.00       1398.00    900.13    900.13   \n",
       "\n",
       "   last_rech_date_ma  last_rech_date_da  last_rech_amt_ma  ...  \\\n",
       "1                2.0                0.0              1539  ...   \n",
       "2               20.0                0.0              5787  ...   \n",
       "3                3.0                0.0              1539  ...   \n",
       "\n",
       "   maxamnt_loans30  medianamnt_loans30  cnt_loans90  amnt_loans90  \\\n",
       "1              6.0                 0.0          2.0            12   \n",
       "2             12.0                 0.0          1.0            12   \n",
       "3              6.0                 0.0          1.0             6   \n",
       "\n",
       "   maxamnt_loans90  medianamnt_loans90  payback30  payback90  pcircle  \\\n",
       "1                6                 0.0       29.0       29.0      UPW   \n",
       "2               12                 0.0        0.0        0.0      UPW   \n",
       "3                6                 0.0        0.0        0.0      UPW   \n",
       "\n",
       "      pdate  \n",
       "1  16-07-20  \n",
       "2  16-08-10  \n",
       "3  16-08-19  \n",
       "\n",
       "[3 rows x 36 columns]"
      ]
     },
     "execution_count": 12,
     "metadata": {},
     "output_type": "execute_result"
    }
   ],
   "source": [
    "df = pd.read_csv('Major Project-Cleaned Data.csv',index_col=0)\n",
    "df.head(3)"
   ]
  },
  {
   "cell_type": "code",
   "execution_count": 13,
   "id": "9f92d810",
   "metadata": {},
   "outputs": [],
   "source": [
    "# with the following function we can select highly correlated features\n",
    "# it will remove the first feature that is correlated with anything other feature\n",
    "\n",
    "def correlation(dataset, threshold):\n",
    "    col_corr = set()  # Set of all the names of correlated columns\n",
    "    corr_matrix = dataset.corr()\n",
    "    for i in range(len(corr_matrix.columns)):\n",
    "        for j in range(i):\n",
    "            if abs(corr_matrix.iloc[i, j]) > threshold: # we are interested in absolute coeff value\n",
    "                colname = corr_matrix.columns[i]  # getting the name of column\n",
    "                col_corr.add(colname)\n",
    "    return col_corr"
   ]
  },
  {
   "cell_type": "code",
   "execution_count": 14,
   "id": "c195378c",
   "metadata": {},
   "outputs": [
    {
     "data": {
      "text/plain": [
       "12"
      ]
     },
     "execution_count": 14,
     "metadata": {},
     "output_type": "execute_result"
    }
   ],
   "source": [
    "corr_features = correlation(df, 0.5)\n",
    "len(set(corr_features))"
   ]
  },
  {
   "cell_type": "code",
   "execution_count": 15,
   "id": "48008cd6",
   "metadata": {},
   "outputs": [
    {
     "data": {
      "text/plain": [
       "24"
      ]
     },
     "execution_count": 15,
     "metadata": {},
     "output_type": "execute_result"
    }
   ],
   "source": [
    "len(df.columns)-len(corr_features)"
   ]
  },
  {
   "cell_type": "code",
   "execution_count": 16,
   "id": "3b9e2678",
   "metadata": {},
   "outputs": [
    {
     "data": {
      "text/plain": [
       "{'amnt_loans30',\n",
       " 'amnt_loans90',\n",
       " 'cnt_loans30',\n",
       " 'cnt_ma_rech90',\n",
       " 'daily_decr90',\n",
       " 'medianamnt_loans90',\n",
       " 'medianamnt_ma_rech30',\n",
       " 'medianamnt_ma_rech90',\n",
       " 'payback90',\n",
       " 'rental90',\n",
       " 'sumamnt_ma_rech30',\n",
       " 'sumamnt_ma_rech90'}"
      ]
     },
     "execution_count": 16,
     "metadata": {},
     "output_type": "execute_result"
    }
   ],
   "source": [
    "corr_features"
   ]
  },
  {
   "cell_type": "code",
   "execution_count": 17,
   "id": "384566d8",
   "metadata": {},
   "outputs": [],
   "source": [
    "df_imp = df.drop(corr_features,axis=1)"
   ]
  },
  {
   "cell_type": "code",
   "execution_count": 18,
   "id": "2e8a97ee",
   "metadata": {},
   "outputs": [],
   "source": [
    "df_imp = df_imp.drop(columns=['pcircle','pdate','msisdn'], axis=1)"
   ]
  },
  {
   "cell_type": "code",
   "execution_count": 50,
   "id": "6186ef28",
   "metadata": {
    "scrolled": true
   },
   "outputs": [
    {
     "data": {
      "text/html": [
       "<div>\n",
       "<style scoped>\n",
       "    .dataframe tbody tr th:only-of-type {\n",
       "        vertical-align: middle;\n",
       "    }\n",
       "\n",
       "    .dataframe tbody tr th {\n",
       "        vertical-align: top;\n",
       "    }\n",
       "\n",
       "    .dataframe thead th {\n",
       "        text-align: right;\n",
       "    }\n",
       "</style>\n",
       "<table border=\"1\" class=\"dataframe\">\n",
       "  <thead>\n",
       "    <tr style=\"text-align: right;\">\n",
       "      <th></th>\n",
       "      <th>label</th>\n",
       "      <th>aon</th>\n",
       "      <th>daily_decr30</th>\n",
       "      <th>rental30</th>\n",
       "      <th>last_rech_date_ma</th>\n",
       "      <th>last_rech_date_da</th>\n",
       "      <th>last_rech_amt_ma</th>\n",
       "      <th>cnt_ma_rech30</th>\n",
       "      <th>fr_ma_rech30</th>\n",
       "      <th>medianmarechprebal30</th>\n",
       "      <th>...</th>\n",
       "      <th>medianmarechprebal90</th>\n",
       "      <th>cnt_da_rech30</th>\n",
       "      <th>fr_da_rech30</th>\n",
       "      <th>cnt_da_rech90</th>\n",
       "      <th>fr_da_rech90</th>\n",
       "      <th>maxamnt_loans30</th>\n",
       "      <th>medianamnt_loans30</th>\n",
       "      <th>cnt_loans90</th>\n",
       "      <th>maxamnt_loans90</th>\n",
       "      <th>payback30</th>\n",
       "    </tr>\n",
       "  </thead>\n",
       "  <tbody>\n",
       "    <tr>\n",
       "      <th>1</th>\n",
       "      <td>0</td>\n",
       "      <td>272.0</td>\n",
       "      <td>3055.05</td>\n",
       "      <td>220.13</td>\n",
       "      <td>2.0</td>\n",
       "      <td>0.0</td>\n",
       "      <td>1539</td>\n",
       "      <td>2</td>\n",
       "      <td>21.0</td>\n",
       "      <td>7.50</td>\n",
       "      <td>...</td>\n",
       "      <td>7.50</td>\n",
       "      <td>0.0</td>\n",
       "      <td>0.0</td>\n",
       "      <td>0</td>\n",
       "      <td>0</td>\n",
       "      <td>6.0</td>\n",
       "      <td>0.0</td>\n",
       "      <td>2.0</td>\n",
       "      <td>6</td>\n",
       "      <td>29.0</td>\n",
       "    </tr>\n",
       "    <tr>\n",
       "      <th>2</th>\n",
       "      <td>1</td>\n",
       "      <td>712.0</td>\n",
       "      <td>12122.00</td>\n",
       "      <td>3691.26</td>\n",
       "      <td>20.0</td>\n",
       "      <td>0.0</td>\n",
       "      <td>5787</td>\n",
       "      <td>1</td>\n",
       "      <td>0.0</td>\n",
       "      <td>61.04</td>\n",
       "      <td>...</td>\n",
       "      <td>61.04</td>\n",
       "      <td>0.0</td>\n",
       "      <td>0.0</td>\n",
       "      <td>0</td>\n",
       "      <td>0</td>\n",
       "      <td>12.0</td>\n",
       "      <td>0.0</td>\n",
       "      <td>1.0</td>\n",
       "      <td>12</td>\n",
       "      <td>0.0</td>\n",
       "    </tr>\n",
       "  </tbody>\n",
       "</table>\n",
       "<p>2 rows × 21 columns</p>\n",
       "</div>"
      ],
      "text/plain": [
       "   label    aon  daily_decr30  rental30  last_rech_date_ma  last_rech_date_da  \\\n",
       "1      0  272.0       3055.05    220.13                2.0                0.0   \n",
       "2      1  712.0      12122.00   3691.26               20.0                0.0   \n",
       "\n",
       "   last_rech_amt_ma  cnt_ma_rech30  fr_ma_rech30  medianmarechprebal30  ...  \\\n",
       "1              1539              2          21.0                  7.50  ...   \n",
       "2              5787              1           0.0                 61.04  ...   \n",
       "\n",
       "   medianmarechprebal90  cnt_da_rech30  fr_da_rech30  cnt_da_rech90  \\\n",
       "1                  7.50            0.0           0.0              0   \n",
       "2                 61.04            0.0           0.0              0   \n",
       "\n",
       "   fr_da_rech90  maxamnt_loans30  medianamnt_loans30  cnt_loans90  \\\n",
       "1             0              6.0                 0.0          2.0   \n",
       "2             0             12.0                 0.0          1.0   \n",
       "\n",
       "   maxamnt_loans90  payback30  \n",
       "1                6       29.0  \n",
       "2               12        0.0  \n",
       "\n",
       "[2 rows x 21 columns]"
      ]
     },
     "execution_count": 50,
     "metadata": {},
     "output_type": "execute_result"
    }
   ],
   "source": [
    "df_imp.head(2)"
   ]
  },
  {
   "cell_type": "code",
   "execution_count": 51,
   "id": "2f566973",
   "metadata": {},
   "outputs": [
    {
     "data": {
      "text/plain": [
       "Index(['label', 'aon', 'daily_decr30', 'rental30', 'last_rech_date_ma',\n",
       "       'last_rech_date_da', 'last_rech_amt_ma', 'cnt_ma_rech30',\n",
       "       'fr_ma_rech30', 'medianmarechprebal30', 'fr_ma_rech90',\n",
       "       'medianmarechprebal90', 'cnt_da_rech30', 'fr_da_rech30',\n",
       "       'cnt_da_rech90', 'fr_da_rech90', 'maxamnt_loans30',\n",
       "       'medianamnt_loans30', 'cnt_loans90', 'maxamnt_loans90', 'payback30'],\n",
       "      dtype='object')"
      ]
     },
     "execution_count": 51,
     "metadata": {},
     "output_type": "execute_result"
    }
   ],
   "source": [
    "df_imp.columns"
   ]
  },
  {
   "cell_type": "markdown",
   "id": "a3139a1e",
   "metadata": {},
   "source": [
    "# Input Split and oversampling using SMOTE"
   ]
  },
  {
   "cell_type": "code",
   "execution_count": 52,
   "id": "8b798026",
   "metadata": {},
   "outputs": [],
   "source": [
    "X = df_imp.drop(columns=['label'], axis=1)\n",
    "y = df_imp['label']"
   ]
  },
  {
   "cell_type": "code",
   "execution_count": 53,
   "id": "40b745d9",
   "metadata": {},
   "outputs": [
    {
     "data": {
      "text/plain": [
       "0    166264\n",
       "1    166264\n",
       "Name: label, dtype: int64"
      ]
     },
     "execution_count": 53,
     "metadata": {},
     "output_type": "execute_result"
    }
   ],
   "source": [
    "from imblearn.over_sampling import SMOTE\n",
    "smote = SMOTE(sampling_strategy='minority')\n",
    "X_sm, y_sm = smote.fit_resample(X, y)\n",
    "\n",
    "y_sm.value_counts()"
   ]
  },
  {
   "cell_type": "code",
   "execution_count": 54,
   "id": "552a039f",
   "metadata": {},
   "outputs": [
    {
     "data": {
      "text/plain": [
       "((332528, 20), (332528,))"
      ]
     },
     "execution_count": 54,
     "metadata": {},
     "output_type": "execute_result"
    }
   ],
   "source": [
    "X_sm.shape, y_sm.shape"
   ]
  },
  {
   "cell_type": "code",
   "execution_count": 55,
   "id": "ed1b6821",
   "metadata": {},
   "outputs": [],
   "source": [
    "from sklearn.model_selection import train_test_split\n",
    "X_train, X_test, y_train, y_test = train_test_split(X_sm, y_sm, test_size=0.2, random_state=15, stratify=y_sm)"
   ]
  },
  {
   "cell_type": "code",
   "execution_count": 56,
   "id": "0278bbcf",
   "metadata": {},
   "outputs": [
    {
     "data": {
      "text/plain": [
       "1    133011\n",
       "0    133011\n",
       "Name: label, dtype: int64"
      ]
     },
     "execution_count": 56,
     "metadata": {},
     "output_type": "execute_result"
    }
   ],
   "source": [
    "y_train.value_counts()"
   ]
  },
  {
   "cell_type": "code",
   "execution_count": 57,
   "id": "2e3ba4a5",
   "metadata": {},
   "outputs": [
    {
     "name": "stdout",
     "output_type": "stream",
     "text": [
      "After Oversampling\n",
      "Shape of X_train:  (266022, 20)\n",
      "Shape of y_train:  (266022,)\n",
      "Shape of X_test:  (66506, 20)\n",
      "Shape of y_test:  (66506,)\n"
     ]
    }
   ],
   "source": [
    "print(\"After Oversampling\")\n",
    "print(\"Shape of X_train: \",X_train.shape)\n",
    "print(\"Shape of y_train: \",y_train.shape)\n",
    "print(\"Shape of X_test: \",X_test.shape)\n",
    "print(\"Shape of y_test: \",y_test.shape)"
   ]
  },
  {
   "cell_type": "markdown",
   "id": "732a2c8d",
   "metadata": {},
   "source": [
    "# Decision Tree"
   ]
  },
  {
   "cell_type": "code",
   "execution_count": 58,
   "id": "6457e09c",
   "metadata": {},
   "outputs": [],
   "source": [
    "from sklearn.tree import DecisionTreeClassifier"
   ]
  },
  {
   "cell_type": "code",
   "execution_count": 59,
   "id": "36de767c",
   "metadata": {},
   "outputs": [],
   "source": [
    "model = DecisionTreeClassifier(criterion=\"gini\")"
   ]
  },
  {
   "cell_type": "code",
   "execution_count": 60,
   "id": "f7a09b09",
   "metadata": {},
   "outputs": [
    {
     "data": {
      "text/plain": [
       "DecisionTreeClassifier()"
      ]
     },
     "execution_count": 60,
     "metadata": {},
     "output_type": "execute_result"
    }
   ],
   "source": [
    "model.fit(X_train,y_train)"
   ]
  },
  {
   "cell_type": "code",
   "execution_count": 61,
   "id": "3a907828",
   "metadata": {},
   "outputs": [],
   "source": [
    "y_pred = model.predict(X_test)"
   ]
  },
  {
   "cell_type": "code",
   "execution_count": 62,
   "id": "17a295f1",
   "metadata": {},
   "outputs": [
    {
     "data": {
      "text/plain": [
       "0.8965206146813821"
      ]
     },
     "execution_count": 62,
     "metadata": {},
     "output_type": "execute_result"
    }
   ],
   "source": [
    "model.score(X_test,y_test)"
   ]
  },
  {
   "cell_type": "markdown",
   "id": "5b8dc56a",
   "metadata": {},
   "source": [
    "89 % is great"
   ]
  },
  {
   "cell_type": "code",
   "execution_count": 63,
   "id": "839cf1d8",
   "metadata": {},
   "outputs": [
    {
     "data": {
      "text/plain": [
       "array([[0., 1.],\n",
       "       [1., 0.],\n",
       "       [1., 0.],\n",
       "       ...,\n",
       "       [1., 0.],\n",
       "       [0., 1.],\n",
       "       [1., 0.]])"
      ]
     },
     "execution_count": 63,
     "metadata": {},
     "output_type": "execute_result"
    }
   ],
   "source": [
    "model.predict_proba(X_test)"
   ]
  },
  {
   "cell_type": "code",
   "execution_count": 69,
   "id": "f100c3ba",
   "metadata": {},
   "outputs": [],
   "source": [
    "from sklearn.model_selection import cross_val_score\n",
    "from sklearn.metrics import classification_report\n",
    "from sklearn.metrics import recall_score\n",
    "from sklearn.metrics import confusion_matrix"
   ]
  },
  {
   "cell_type": "code",
   "execution_count": 70,
   "id": "f24918ba",
   "metadata": {
    "scrolled": true
   },
   "outputs": [
    {
     "name": "stdout",
     "output_type": "stream",
     "text": [
      "              precision    recall  f1-score   support\n",
      "\n",
      "           0       0.89      0.91      0.90     33253\n",
      "           1       0.90      0.89      0.90     33253\n",
      "\n",
      "    accuracy                           0.90     66506\n",
      "   macro avg       0.90      0.90      0.90     66506\n",
      "weighted avg       0.90      0.90      0.90     66506\n",
      "\n"
     ]
    }
   ],
   "source": [
    "print(classification_report(y_test,y_pred))"
   ]
  },
  {
   "cell_type": "code",
   "execution_count": 71,
   "id": "5ea99ce5",
   "metadata": {},
   "outputs": [
    {
     "name": "stdout",
     "output_type": "stream",
     "text": [
      "[[30154  3099]\n",
      " [ 3783 29470]]\n"
     ]
    }
   ],
   "source": [
    "cm = confusion_matrix(y_test,y_pred)\n",
    "print(cm)"
   ]
  },
  {
   "cell_type": "code",
   "execution_count": 72,
   "id": "2109d8f9",
   "metadata": {},
   "outputs": [
    {
     "data": {
      "text/plain": [
       "Text(69.0, 0.5, 'Truth')"
      ]
     },
     "execution_count": 72,
     "metadata": {},
     "output_type": "execute_result"
    },
    {
     "data": {
      "image/png": "[encoded data removed]",
      "text/plain": [
       "<Figure size 720x504 with 2 Axes>"
      ]
     },
     "metadata": {
      "needs_background": "light"
     },
     "output_type": "display_data"
    }
   ],
   "source": [
    "plt.figure(figsize = (10,7))\n",
    "sns.heatmap(cm, annot=True)\n",
    "plt.xlabel('Predicted')\n",
    "plt.ylabel('Truth')"
   ]
  },
  {
   "cell_type": "markdown",
   "id": "871a84a6",
   "metadata": {},
   "source": [
    "# Prediction using inputs"
   ]
  },
  {
   "cell_type": "code",
   "execution_count": 73,
   "id": "e5e4107d",
   "metadata": {},
   "outputs": [
    {
     "name": "stdout",
     "output_type": "stream",
     "text": [
      "[1]\n",
      "The label is 1: The customer will payback in 5 days \n"
     ]
    }
   ],
   "source": [
    "input_data = (166,72,19,175,25.8,0.587,51,45,82,\n",
    "             66,78,25,36,20,47,58,69,45,78,98)\n",
    "\n",
    "# changing the input_data to numpy array\n",
    "input_data_as_numpy_array = np.asarray(input_data)\n",
    "\n",
    "# reshape the array as we are predicting for one instance\n",
    "input_data_reshaped = input_data_as_numpy_array.reshape(1,-1)\n",
    "\n",
    "prediction = model.predict(input_data_reshaped)\n",
    "print(prediction)\n",
    "\n",
    "if (prediction[0] == 0):\n",
    "  print('The label is 0: The customer will not payback in 5 days')\n",
    "else:\n",
    "  print('The label is 1: The customer will payback in 5 days ')"
   ]
  },
  {
   "cell_type": "markdown",
   "id": "598a3011",
   "metadata": {},
   "source": [
    "# Save the file"
   ]
  },
  {
   "cell_type": "code",
   "execution_count": 74,
   "id": "92a091c8",
   "metadata": {},
   "outputs": [],
   "source": [
    "import pickle"
   ]
  },
  {
   "cell_type": "code",
   "execution_count": 75,
   "id": "9379c87a",
   "metadata": {},
   "outputs": [],
   "source": [
    "filename = 'trained_model.sav'"
   ]
  },
  {
   "cell_type": "code",
   "execution_count": 76,
   "id": "9ec8419c",
   "metadata": {},
   "outputs": [],
   "source": [
    "#saving model\n",
    "pickle.dump(model, open(filename, 'wb'))"
   ]
  },
  {
   "cell_type": "code",
   "execution_count": 77,
   "id": "2d68170f",
   "metadata": {},
   "outputs": [],
   "source": [
    "# loading the saved model\n",
    "loaded_model = pickle.load (open(filename, 'rb'))"
   ]
  },
  {
   "cell_type": "code",
   "execution_count": 78,
   "id": "6d2b04ca",
   "metadata": {},
   "outputs": [
    {
     "data": {
      "text/plain": [
       "0.8965206146813821"
      ]
     },
     "execution_count": 78,
     "metadata": {},
     "output_type": "execute_result"
    }
   ],
   "source": [
    "loaded_model.score(X_test, y_test)"
   ]
  },
  {
   "cell_type": "markdown",
   "id": "cd85b35b",
   "metadata": {},
   "source": [
    "Checking the loaded model(pickle) file"
   ]
  },
  {
   "cell_type": "code",
   "execution_count": 79,
   "id": "d1afc55f",
   "metadata": {},
   "outputs": [
    {
     "name": "stdout",
     "output_type": "stream",
     "text": [
      "[1]\n",
      "The label is 1: The customer will payback in 5 days \n"
     ]
    }
   ],
   "source": [
    "input_data = (166,72,19,175,25.8,0.587,51,45,82,\n",
    "             66,78,25,36,20,47,58,69,45,78,98)\n",
    "\n",
    "# changing the input_data to numpy array\n",
    "input_data_as_numpy_array = np.asarray(input_data)\n",
    "\n",
    "# reshape the array as we are predicting for one instance\n",
    "input_data_reshaped = input_data_as_numpy_array.reshape(1,-1)\n",
    "\n",
    "prediction = loaded_model.predict(input_data_reshaped)\n",
    "print(prediction)\n",
    "\n",
    "if (prediction[0] == 0):\n",
    "  print('The label is 0: The customer will not payback in 5 days')\n",
    "else:\n",
    "  print('The label is 1: The customer will payback in 5 days ')"
   ]
  },
  {
   "cell_type": "markdown",
   "id": "6d4c056b",
   "metadata": {},
   "source": [
    "# Bussiness Recomendation"
   ]
  },
  {
   "cell_type": "markdown",
   "id": "abc4e690",
   "metadata": {},
   "source": [
    "### We will find the top 5 most important columns in our data set which affects our outcome and would give bussiness recomendation to work on them."
   ]
  },
  {
   "cell_type": "code",
   "execution_count": 80,
   "id": "1bc0d2e4",
   "metadata": {
    "scrolled": true
   },
   "outputs": [
    {
     "data": {
      "text/plain": [
       "array([0.41470406, 0.21189646, 0.08723904, 0.40249691, 0.01397536,\n",
       "       0.16541856, 0.17520828, 0.29944163, 0.28926636, 0.07652275,\n",
       "       0.29819371, 0.0086827 , 0.00238926, 0.00256807, 0.00175226,\n",
       "       0.05361836, 0.03696491, 0.29085048, 0.07101687, 0.22407645])"
      ]
     },
     "execution_count": 80,
     "metadata": {},
     "output_type": "execute_result"
    }
   ],
   "source": [
    "from sklearn.feature_selection import mutual_info_classif\n",
    "# determine the mutual information\n",
    "mutual_info = mutual_info_classif(X_train, y_train)\n",
    "mutual_info"
   ]
  },
  {
   "cell_type": "code",
   "execution_count": 81,
   "id": "e888dc19",
   "metadata": {},
   "outputs": [
    {
     "data": {
      "text/plain": [
       "aon                     0.414704\n",
       "last_rech_date_ma       0.402497\n",
       "fr_ma_rech30            0.299442\n",
       "medianmarechprebal90    0.298194\n",
       "cnt_loans90             0.290850\n",
       "medianmarechprebal30    0.289266\n",
       "payback30               0.224076\n",
       "daily_decr30            0.211896\n",
       "cnt_ma_rech30           0.175208\n",
       "last_rech_amt_ma        0.165419\n",
       "rental30                0.087239\n",
       "fr_ma_rech90            0.076523\n",
       "maxamnt_loans90         0.071017\n",
       "maxamnt_loans30         0.053618\n",
       "medianamnt_loans30      0.036965\n",
       "last_rech_date_da       0.013975\n",
       "cnt_da_rech30           0.008683\n",
       "cnt_da_rech90           0.002568\n",
       "fr_da_rech30            0.002389\n",
       "fr_da_rech90            0.001752\n",
       "dtype: float64"
      ]
     },
     "execution_count": 81,
     "metadata": {},
     "output_type": "execute_result"
    }
   ],
   "source": [
    "mutual_info = pd.Series(mutual_info)\n",
    "mutual_info.index = X_train.columns\n",
    "mutual_info.sort_values(ascending=False)"
   ]
  },
  {
   "cell_type": "code",
   "execution_count": 82,
   "id": "27301205",
   "metadata": {},
   "outputs": [
    {
     "data": {
      "text/plain": [
       "<AxesSubplot:>"
      ]
     },
     "execution_count": 82,
     "metadata": {},
     "output_type": "execute_result"
    },
    {
     "data": {
      "image/png": "[encoded data removed]",
      "text/plain": [
       "<Figure size 1440x576 with 1 Axes>"
      ]
     },
     "metadata": {
      "needs_background": "light"
     },
     "output_type": "display_data"
    }
   ],
   "source": [
    "#let's plot the ordered mutual_info values per feature\n",
    "mutual_info.sort_values(ascending=False).plot.bar(figsize=(20, 8))"
   ]
  },
  {
   "cell_type": "code",
   "execution_count": 83,
   "id": "86fdb46e",
   "metadata": {},
   "outputs": [],
   "source": [
    "from sklearn.feature_selection import SelectKBest"
   ]
  },
  {
   "cell_type": "code",
   "execution_count": 84,
   "id": "ac9ebeda",
   "metadata": {},
   "outputs": [
    {
     "data": {
      "text/plain": [
       "Index(['aon', 'last_rech_date_ma', 'fr_ma_rech30', 'medianmarechprebal90',\n",
       "       'cnt_loans90'],\n",
       "      dtype='object')"
      ]
     },
     "execution_count": 84,
     "metadata": {},
     "output_type": "execute_result"
    }
   ],
   "source": [
    "#No we Will select the  top 5 important features\n",
    "sel_five_cols = SelectKBest(mutual_info_classif, k=5)\n",
    "sel_five_cols.fit(X_train, y_train)\n",
    "X_train.columns[sel_five_cols.get_support()]"
   ]
  },
  {
   "cell_type": "markdown",
   "id": "6f4d3482",
   "metadata": {},
   "source": [
    "Top 5 important features is found, now the company will focus more on them."
   ]
  },
  {
   "cell_type": "code",
   "execution_count": null,
   "id": "345c68b6",
   "metadata": {},
   "outputs": [],
   "source": []
  }
 ],
 "metadata": {
  "kernelspec": {
   "display_name": "Python 3 (ipykernel)",
   "language": "python",
   "name": "python3"
  },
  "language_info": {
   "codemirror_mode": {
    "name": "ipython",
    "version": 3
   },
   "file_extension": ".py",
   "mimetype": "text/x-python",
   "name": "python",
   "nbconvert_exporter": "python",
   "pygments_lexer": "ipython3",
   "version": "3.9.7"
  }
 },
 "nbformat": 4,
 "nbformat_minor": 5
}
