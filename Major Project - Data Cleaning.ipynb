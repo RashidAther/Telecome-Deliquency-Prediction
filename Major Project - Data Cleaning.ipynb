{
 "cells": [
  {
   "cell_type": "markdown",
   "id": "1685856b",
   "metadata": {},
   "source": [
    "# Delinquency Telecom Model"
   ]
  },
  {
   "cell_type": "markdown",
   "id": "9cbef843",
   "metadata": {},
   "source": [
    "## Context\n",
    "Delinquency is a condition that arises when an activity or situation does not occur at its scheduled (or expected) date i.e., it occurs later than expected."
   ]
  },
  {
   "cell_type": "markdown",
   "id": "be7455ac",
   "metadata": {},
   "source": [
    "## Content\n",
    "Many donors, experts, and microfinance institutions (MFI) have become convinced that using mobile financial services (MFS) is more convenient and efficient, and less costly, than the traditional high-touch model for delivering microfinance services. MFS becomes especially useful when targeting the unbanked poor living in remote areas. The implementation of MFS, though, has been uneven with both significant challenges and successes.\n",
    "Today, microfinance is widely accepted as a poverty-reduction tool, representing $70 billion in outstanding loans and a global outreach of 200 million clients."
   ]
  },
  {
   "cell_type": "markdown",
   "id": "661f99ac",
   "metadata": {},
   "source": [
    "## Data Description\n",
    "\n",
    "A Telecom collaborates with an MFI to provide micro-credit on mobile balances to be paid back in 5 days. The Consumer is believed to be delinquent if he deviates from the path of paying back the loaned amount within 5 days.\n",
    "The sample data from our client database is hereby given to you for the exercise."
   ]
  },
  {
   "cell_type": "markdown",
   "id": "101deafa",
   "metadata": {},
   "source": [
    "## Exercise\n",
    "Create a delinquency model which can predict in terms of a probability for each loan transaction, whether the customer will be paying back the loaned amount within 5 days of insurance of loan (Label ‘1’ & ’0’)"
   ]
  },
  {
   "cell_type": "code",
   "execution_count": 1,
   "id": "e7a8d055",
   "metadata": {},
   "outputs": [],
   "source": [
    "import pandas as pd\n",
    "import numpy as np\n",
    "import seaborn as sns\n",
    "import matplotlib.pyplot as plt\n",
    "%matplotlib inline"
   ]
  },
  {
   "cell_type": "code",
   "execution_count": 2,
   "id": "62f1c26f",
   "metadata": {},
   "outputs": [
    {
     "data": {
      "text/html": [
       "<div>\n",
       "<style scoped>\n",
       "    .dataframe tbody tr th:only-of-type {\n",
       "        vertical-align: middle;\n",
       "    }\n",
       "\n",
       "    .dataframe tbody tr th {\n",
       "        vertical-align: top;\n",
       "    }\n",
       "\n",
       "    .dataframe thead th {\n",
       "        text-align: right;\n",
       "    }\n",
       "</style>\n",
       "<table border=\"1\" class=\"dataframe\">\n",
       "  <thead>\n",
       "    <tr style=\"text-align: right;\">\n",
       "      <th></th>\n",
       "      <th>label</th>\n",
       "      <th>msisdn</th>\n",
       "      <th>aon</th>\n",
       "      <th>daily_decr30</th>\n",
       "      <th>daily_decr90</th>\n",
       "      <th>rental30</th>\n",
       "      <th>rental90</th>\n",
       "      <th>last_rech_date_ma</th>\n",
       "      <th>last_rech_date_da</th>\n",
       "      <th>last_rech_amt_ma</th>\n",
       "      <th>...</th>\n",
       "      <th>maxamnt_loans30</th>\n",
       "      <th>medianamnt_loans30</th>\n",
       "      <th>cnt_loans90</th>\n",
       "      <th>amnt_loans90</th>\n",
       "      <th>maxamnt_loans90</th>\n",
       "      <th>medianamnt_loans90</th>\n",
       "      <th>payback30</th>\n",
       "      <th>payback90</th>\n",
       "      <th>pcircle</th>\n",
       "      <th>pdate</th>\n",
       "    </tr>\n",
       "  </thead>\n",
       "  <tbody>\n",
       "    <tr>\n",
       "      <th>1</th>\n",
       "      <td>0</td>\n",
       "      <td>21408I70789</td>\n",
       "      <td>272</td>\n",
       "      <td>3055.05</td>\n",
       "      <td>3065.15</td>\n",
       "      <td>220.13</td>\n",
       "      <td>260.13</td>\n",
       "      <td>2.0</td>\n",
       "      <td>0.0</td>\n",
       "      <td>1539</td>\n",
       "      <td>...</td>\n",
       "      <td>6.0</td>\n",
       "      <td>0.0</td>\n",
       "      <td>2.0</td>\n",
       "      <td>12</td>\n",
       "      <td>6</td>\n",
       "      <td>0.0</td>\n",
       "      <td>29.0</td>\n",
       "      <td>29.0</td>\n",
       "      <td>UPW</td>\n",
       "      <td>7/20/2016</td>\n",
       "    </tr>\n",
       "    <tr>\n",
       "      <th>2</th>\n",
       "      <td>1</td>\n",
       "      <td>76462I70374</td>\n",
       "      <td>712</td>\n",
       "      <td>12122</td>\n",
       "      <td>12124.75</td>\n",
       "      <td>3691.26</td>\n",
       "      <td>3691.26</td>\n",
       "      <td>20.0</td>\n",
       "      <td>0.0</td>\n",
       "      <td>5787</td>\n",
       "      <td>...</td>\n",
       "      <td>12.0</td>\n",
       "      <td>0.0</td>\n",
       "      <td>1.0</td>\n",
       "      <td>12</td>\n",
       "      <td>12</td>\n",
       "      <td>0.0</td>\n",
       "      <td>0.0</td>\n",
       "      <td>0.0</td>\n",
       "      <td>UPW</td>\n",
       "      <td>08-10-2016</td>\n",
       "    </tr>\n",
       "    <tr>\n",
       "      <th>3</th>\n",
       "      <td>1</td>\n",
       "      <td>17943I70372</td>\n",
       "      <td>535</td>\n",
       "      <td>1398</td>\n",
       "      <td>1398</td>\n",
       "      <td>900.13</td>\n",
       "      <td>900.13</td>\n",
       "      <td>3.0</td>\n",
       "      <td>0.0</td>\n",
       "      <td>1539</td>\n",
       "      <td>...</td>\n",
       "      <td>6.0</td>\n",
       "      <td>0.0</td>\n",
       "      <td>1.0</td>\n",
       "      <td>6</td>\n",
       "      <td>6</td>\n",
       "      <td>0.0</td>\n",
       "      <td>0.0</td>\n",
       "      <td>0.0</td>\n",
       "      <td>UPW</td>\n",
       "      <td>8/19/2016</td>\n",
       "    </tr>\n",
       "  </tbody>\n",
       "</table>\n",
       "<p>3 rows × 36 columns</p>\n",
       "</div>"
      ],
      "text/plain": [
       "   label       msisdn  aon daily_decr30 daily_decr90 rental30 rental90  \\\n",
       "1      0  21408I70789  272      3055.05      3065.15   220.13   260.13   \n",
       "2      1  76462I70374  712        12122     12124.75  3691.26  3691.26   \n",
       "3      1  17943I70372  535         1398         1398   900.13   900.13   \n",
       "\n",
       "   last_rech_date_ma  last_rech_date_da  last_rech_amt_ma  ...  \\\n",
       "1                2.0                0.0              1539  ...   \n",
       "2               20.0                0.0              5787  ...   \n",
       "3                3.0                0.0              1539  ...   \n",
       "\n",
       "   maxamnt_loans30  medianamnt_loans30  cnt_loans90  amnt_loans90  \\\n",
       "1              6.0                 0.0          2.0            12   \n",
       "2             12.0                 0.0          1.0            12   \n",
       "3              6.0                 0.0          1.0             6   \n",
       "\n",
       "   maxamnt_loans90  medianamnt_loans90  payback30  payback90  pcircle  \\\n",
       "1                6                 0.0       29.0       29.0      UPW   \n",
       "2               12                 0.0        0.0        0.0      UPW   \n",
       "3                6                 0.0        0.0        0.0      UPW   \n",
       "\n",
       "        pdate  \n",
       "1   7/20/2016  \n",
       "2  08-10-2016  \n",
       "3   8/19/2016  \n",
       "\n",
       "[3 rows x 36 columns]"
      ]
     },
     "execution_count": 2,
     "metadata": {},
     "output_type": "execute_result"
    }
   ],
   "source": [
    "df = pd.read_csv('Telecome Deliquency Dataset.csv',index_col=0)\n",
    "df.head(3)"
   ]
  },
  {
   "cell_type": "markdown",
   "id": "20216d6f",
   "metadata": {},
   "source": [
    "# Data Description"
   ]
  },
  {
   "cell_type": "code",
   "execution_count": 3,
   "id": "67587b88",
   "metadata": {},
   "outputs": [
    {
     "data": {
      "text/plain": [
       "Index(['label', 'msisdn', 'aon', 'daily_decr30', 'daily_decr90', 'rental30',\n",
       "       'rental90', 'last_rech_date_ma', 'last_rech_date_da',\n",
       "       'last_rech_amt_ma', 'cnt_ma_rech30', 'fr_ma_rech30',\n",
       "       'sumamnt_ma_rech30', 'medianamnt_ma_rech30', 'medianmarechprebal30',\n",
       "       'cnt_ma_rech90', 'fr_ma_rech90', 'sumamnt_ma_rech90',\n",
       "       'medianamnt_ma_rech90', 'medianmarechprebal90', 'cnt_da_rech30',\n",
       "       'fr_da_rech30', 'cnt_da_rech90', 'fr_da_rech90', 'cnt_loans30',\n",
       "       'amnt_loans30', 'maxamnt_loans30', 'medianamnt_loans30', 'cnt_loans90',\n",
       "       'amnt_loans90', 'maxamnt_loans90', 'medianamnt_loans90', 'payback30',\n",
       "       'payback90', 'pcircle', 'pdate'],\n",
       "      dtype='object')"
      ]
     },
     "execution_count": 3,
     "metadata": {},
     "output_type": "execute_result"
    }
   ],
   "source": [
    "df.columns"
   ]
  },
  {
   "attachments": {
    "inbox_4378858_8d6c62159a033854dc4ca79d2cfbf094_Capture.png": {
     "image/png": "[encoded data removed]"
    }
   },
   "cell_type": "markdown",
   "id": "dfb4dd6a",
   "metadata": {},
   "source": [
    "![inbox_4378858_8d6c62159a033854dc4ca79d2cfbf094_Capture.png](attachment:inbox_4378858_8d6c62159a033854dc4ca79d2cfbf094_Capture.png)"
   ]
  },
  {
   "cell_type": "markdown",
   "id": "c0344ccc",
   "metadata": {},
   "source": [
    "# EDA"
   ]
  },
  {
   "cell_type": "code",
   "execution_count": 4,
   "id": "8c73ed03",
   "metadata": {},
   "outputs": [
    {
     "data": {
      "text/plain": [
       "label                   0\n",
       "msisdn                  0\n",
       "aon                     0\n",
       "daily_decr30            0\n",
       "daily_decr90            0\n",
       "rental30                0\n",
       "rental90                0\n",
       "last_rech_date_ma       0\n",
       "last_rech_date_da       0\n",
       "last_rech_amt_ma        0\n",
       "cnt_ma_rech30           0\n",
       "fr_ma_rech30            0\n",
       "sumamnt_ma_rech30       0\n",
       "medianamnt_ma_rech30    0\n",
       "medianmarechprebal30    0\n",
       "cnt_ma_rech90           0\n",
       "fr_ma_rech90            0\n",
       "sumamnt_ma_rech90       0\n",
       "medianamnt_ma_rech90    0\n",
       "medianmarechprebal90    0\n",
       "cnt_da_rech30           0\n",
       "fr_da_rech30            0\n",
       "cnt_da_rech90           0\n",
       "fr_da_rech90            0\n",
       "cnt_loans30             0\n",
       "amnt_loans30            0\n",
       "maxamnt_loans30         0\n",
       "medianamnt_loans30      0\n",
       "cnt_loans90             0\n",
       "amnt_loans90            0\n",
       "maxamnt_loans90         0\n",
       "medianamnt_loans90      0\n",
       "payback30               0\n",
       "payback90               0\n",
       "pcircle                 0\n",
       "pdate                   0\n",
       "dtype: int64"
      ]
     },
     "execution_count": 4,
     "metadata": {},
     "output_type": "execute_result"
    }
   ],
   "source": [
    "df.isnull().sum()"
   ]
  },
  {
   "cell_type": "markdown",
   "id": "b6e995ab",
   "metadata": {},
   "source": [
    "So, there are no null values present here"
   ]
  },
  {
   "cell_type": "code",
   "execution_count": 5,
   "id": "3a1e4781",
   "metadata": {},
   "outputs": [
    {
     "name": "stdout",
     "output_type": "stream",
     "text": [
      "<class 'pandas.core.frame.DataFrame'>\n",
      "Int64Index: 190001 entries, 1 to 190001\n",
      "Data columns (total 36 columns):\n",
      " #   Column                Non-Null Count   Dtype  \n",
      "---  ------                --------------   -----  \n",
      " 0   label                 190001 non-null  int64  \n",
      " 1   msisdn                190001 non-null  object \n",
      " 2   aon                   190001 non-null  object \n",
      " 3   daily_decr30          190001 non-null  object \n",
      " 4   daily_decr90          190001 non-null  object \n",
      " 5   rental30              190001 non-null  object \n",
      " 6   rental90              190001 non-null  object \n",
      " 7   last_rech_date_ma     190001 non-null  float64\n",
      " 8   last_rech_date_da     190001 non-null  float64\n",
      " 9   last_rech_amt_ma      190001 non-null  int64  \n",
      " 10  cnt_ma_rech30         190001 non-null  int64  \n",
      " 11  fr_ma_rech30          190001 non-null  float64\n",
      " 12  sumamnt_ma_rech30     190001 non-null  float64\n",
      " 13  medianamnt_ma_rech30  190001 non-null  float64\n",
      " 14  medianmarechprebal30  190001 non-null  float64\n",
      " 15  cnt_ma_rech90         190001 non-null  int64  \n",
      " 16  fr_ma_rech90          190001 non-null  int64  \n",
      " 17  sumamnt_ma_rech90     190001 non-null  int64  \n",
      " 18  medianamnt_ma_rech90  190001 non-null  float64\n",
      " 19  medianmarechprebal90  190001 non-null  float64\n",
      " 20  cnt_da_rech30         190001 non-null  float64\n",
      " 21  fr_da_rech30          190001 non-null  float64\n",
      " 22  cnt_da_rech90         190001 non-null  int64  \n",
      " 23  fr_da_rech90          190001 non-null  int64  \n",
      " 24  cnt_loans30           190001 non-null  int64  \n",
      " 25  amnt_loans30          190001 non-null  int64  \n",
      " 26  maxamnt_loans30       190001 non-null  float64\n",
      " 27  medianamnt_loans30    190001 non-null  float64\n",
      " 28  cnt_loans90           190001 non-null  float64\n",
      " 29  amnt_loans90          190001 non-null  int64  \n",
      " 30  maxamnt_loans90       190001 non-null  int64  \n",
      " 31  medianamnt_loans90    190001 non-null  float64\n",
      " 32  payback30             190001 non-null  float64\n",
      " 33  payback90             190001 non-null  float64\n",
      " 34  pcircle               190001 non-null  object \n",
      " 35  pdate                 190001 non-null  object \n",
      "dtypes: float64(16), int64(12), object(8)\n",
      "memory usage: 53.6+ MB\n"
     ]
    }
   ],
   "source": [
    "df.info()"
   ]
  },
  {
   "cell_type": "markdown",
   "id": "dab0c122",
   "metadata": {},
   "source": [
    "As per data description, all the columns should be either int or float data type.\n",
    "\n",
    "Also taking sample data as a refrence, the coulmns with object data type contains errors.\n",
    "\n",
    "Columns need to be cleaned are \n",
    "\n",
    "    1.msisdn\n",
    "    2.aon\n",
    "    3.daily_decr30\n",
    "    4.daily_decr90\n",
    "    5.rental30\n",
    "    6.rental90\n",
    "    7.pcircle\n",
    "    8.pdate"
   ]
  },
  {
   "cell_type": "markdown",
   "id": "be8a5f00",
   "metadata": {},
   "source": [
    "## 1. msisdn : mobile number of user"
   ]
  },
  {
   "cell_type": "code",
   "execution_count": 7,
   "id": "cdad4fdb",
   "metadata": {
    "scrolled": true
   },
   "outputs": [
    {
     "data": {
      "text/plain": [
       "04581I85330    7\n",
       "47819I90840    7\n",
       "87592I84456    6\n",
       "42825I88688    6\n",
       "30080I90588    6\n",
       "              ..\n",
       "70940I90845    1\n",
       "24191I95204    1\n",
       "22693I90841    1\n",
       "84618I88690    1\n",
       "58569I90588    1\n",
       "Name: msisdn, Length: 170612, dtype: int64"
      ]
     },
     "execution_count": 7,
     "metadata": {},
     "output_type": "execute_result"
    }
   ],
   "source": [
    "df['msisdn'].value_counts()"
   ]
  },
  {
   "cell_type": "markdown",
   "id": "76c86f81",
   "metadata": {},
   "source": [
    "In msisdn (mobile number of user) 'I' is present between numbers \n",
    "\n",
    "The alphabet I should not be present as it is a mobile number"
   ]
  },
  {
   "cell_type": "code",
   "execution_count": 8,
   "id": "fbd1c388",
   "metadata": {},
   "outputs": [],
   "source": [
    "df['msisdn']=df['msisdn'].replace(regex=True, to_replace=['I'],value='')"
   ]
  },
  {
   "cell_type": "code",
   "execution_count": 9,
   "id": "021dbd1b",
   "metadata": {},
   "outputs": [],
   "source": [
    "df['msisdn'] = pd.to_numeric(df['msisdn'])"
   ]
  },
  {
   "cell_type": "code",
   "execution_count": 10,
   "id": "5d54d5a6",
   "metadata": {},
   "outputs": [
    {
     "data": {
      "text/plain": [
       "dtype('int64')"
      ]
     },
     "execution_count": 10,
     "metadata": {},
     "output_type": "execute_result"
    }
   ],
   "source": [
    "df['msisdn'].dtype"
   ]
  },
  {
   "cell_type": "code",
   "execution_count": 11,
   "id": "8247d48d",
   "metadata": {},
   "outputs": [
    {
     "data": {
      "text/plain": [
       "0"
      ]
     },
     "execution_count": 11,
     "metadata": {},
     "output_type": "execute_result"
    }
   ],
   "source": [
    "df['msisdn'].isnull().sum()"
   ]
  },
  {
   "cell_type": "code",
   "execution_count": 12,
   "id": "0a8dae98",
   "metadata": {},
   "outputs": [
    {
     "data": {
      "text/plain": [
       "458185330     7\n",
       "4781990840    7\n",
       "8759284456    6\n",
       "4282588688    6\n",
       "3008090588    6\n",
       "             ..\n",
       "7094090845    1\n",
       "2419195204    1\n",
       "2269390841    1\n",
       "8461888690    1\n",
       "5856990588    1\n",
       "Name: msisdn, Length: 170612, dtype: int64"
      ]
     },
     "execution_count": 12,
     "metadata": {},
     "output_type": "execute_result"
    }
   ],
   "source": [
    "df['msisdn'].value_counts()"
   ]
  },
  {
   "cell_type": "markdown",
   "id": "c3661882",
   "metadata": {},
   "source": [
    "As seen above the 'I' alphabet has been removed from the mobile number"
   ]
  },
  {
   "cell_type": "markdown",
   "id": "bc516e5f",
   "metadata": {},
   "source": [
    "## 2. aon: age on cellular network in days"
   ]
  },
  {
   "cell_type": "code",
   "execution_count": 20,
   "id": "fff7637c",
   "metadata": {
    "scrolled": true
   },
   "outputs": [
    {
     "data": {
      "text/plain": [
       "18344     573\n",
       "18345     UA2\n",
       "18346     500\n",
       "18347    1735\n",
       "18348     241\n",
       "18349    2179\n",
       "18350     761\n",
       "18351    1492\n",
       "18352    1021\n",
       "18353     UA9\n",
       "18354     642\n",
       "Name: aon, dtype: object"
      ]
     },
     "execution_count": 20,
     "metadata": {},
     "output_type": "execute_result"
    }
   ],
   "source": [
    "df['aon'].iloc[18343:18354]"
   ]
  },
  {
   "cell_type": "markdown",
   "id": "9f497fe5",
   "metadata": {},
   "source": [
    "It contain values with alphabets UA, negative values and large values with '.'\n",
    "\n",
    "It can be in negative and may contain float i.e. '.' \n",
    "\n",
    "Only UA seems to be as an error."
   ]
  },
  {
   "cell_type": "code",
   "execution_count": 21,
   "id": "d67dbf64",
   "metadata": {},
   "outputs": [
    {
     "data": {
      "text/plain": [
       "dtype('O')"
      ]
     },
     "execution_count": 21,
     "metadata": {},
     "output_type": "execute_result"
    }
   ],
   "source": [
    "df[\"aon\"].dtype"
   ]
  },
  {
   "cell_type": "markdown",
   "id": "c3647897",
   "metadata": {},
   "source": [
    "The should be a numeric and not object"
   ]
  },
  {
   "cell_type": "code",
   "execution_count": 22,
   "id": "511e19d9",
   "metadata": {},
   "outputs": [],
   "source": [
    "df['aon']=df['aon'].replace(regex=True, to_replace=['UA'],value='')"
   ]
  },
  {
   "cell_type": "code",
   "execution_count": 23,
   "id": "dfc9ce50",
   "metadata": {},
   "outputs": [],
   "source": [
    "df['aon'] = pd.to_numeric(df['aon'])"
   ]
  },
  {
   "cell_type": "code",
   "execution_count": 24,
   "id": "bdf26bd4",
   "metadata": {},
   "outputs": [
    {
     "data": {
      "text/plain": [
       "dtype('float64')"
      ]
     },
     "execution_count": 24,
     "metadata": {},
     "output_type": "execute_result"
    }
   ],
   "source": [
    "df[\"aon\"].dtype"
   ]
  },
  {
   "cell_type": "markdown",
   "id": "89891d1f",
   "metadata": {},
   "source": [
    "As shown, by removing UA we have converted the column to float"
   ]
  },
  {
   "cell_type": "code",
   "execution_count": 25,
   "id": "b2411def",
   "metadata": {},
   "outputs": [
    {
     "data": {
      "text/plain": [
       "290"
      ]
     },
     "execution_count": 25,
     "metadata": {},
     "output_type": "execute_result"
    }
   ],
   "source": [
    "df['aon'].isnull().sum()"
   ]
  },
  {
   "cell_type": "code",
   "execution_count": 26,
   "id": "13c7d170",
   "metadata": {},
   "outputs": [
    {
     "data": {
      "text/plain": [
       "8121.7361251819875"
      ]
     },
     "execution_count": 26,
     "metadata": {},
     "output_type": "execute_result"
    }
   ],
   "source": [
    "df['aon'].mean()"
   ]
  },
  {
   "cell_type": "code",
   "execution_count": 27,
   "id": "bcf4db12",
   "metadata": {},
   "outputs": [],
   "source": [
    "df['aon'] = df['aon'].fillna(df['aon'].mean())"
   ]
  },
  {
   "cell_type": "code",
   "execution_count": 28,
   "id": "1891dbb6",
   "metadata": {},
   "outputs": [
    {
     "data": {
      "text/plain": [
       "0"
      ]
     },
     "execution_count": 28,
     "metadata": {},
     "output_type": "execute_result"
    }
   ],
   "source": [
    "df['aon'].isnull().sum()"
   ]
  },
  {
   "cell_type": "code",
   "execution_count": 29,
   "id": "11726839",
   "metadata": {},
   "outputs": [
    {
     "data": {
      "text/plain": [
       "18344     573.0\n",
       "18345       2.0\n",
       "18346     500.0\n",
       "18347    1735.0\n",
       "18348     241.0\n",
       "18349    2179.0\n",
       "18350     761.0\n",
       "18351    1492.0\n",
       "18352    1021.0\n",
       "18353       9.0\n",
       "18354     642.0\n",
       "Name: aon, dtype: float64"
      ]
     },
     "execution_count": 29,
     "metadata": {},
     "output_type": "execute_result"
    }
   ],
   "source": [
    "df['aon'].iloc[18343:18354]"
   ]
  },
  {
   "cell_type": "markdown",
   "id": "1f357512",
   "metadata": {},
   "source": [
    "## 3. daily_decr30: Daily amount spent from main account, averaged over last 30 days"
   ]
  },
  {
   "cell_type": "code",
   "execution_count": 36,
   "id": "8b0a702f",
   "metadata": {
    "scrolled": true
   },
   "outputs": [
    {
     "data": {
      "text/plain": [
       "'UA93'"
      ]
     },
     "execution_count": 36,
     "metadata": {},
     "output_type": "execute_result"
    }
   ],
   "source": [
    "df['daily_decr30'].iloc[22780]"
   ]
  },
  {
   "cell_type": "markdown",
   "id": "88b3d706",
   "metadata": {},
   "source": [
    "It contain values with alphabets UA, negative values and large values with '.'\n",
    "\n",
    "It can be in negative and may contain float i.e. '.'\n",
    "\n",
    "Only UA seems to be as an error."
   ]
  },
  {
   "cell_type": "code",
   "execution_count": 37,
   "id": "9397134d",
   "metadata": {},
   "outputs": [
    {
     "data": {
      "text/plain": [
       "dtype('O')"
      ]
     },
     "execution_count": 37,
     "metadata": {},
     "output_type": "execute_result"
    }
   ],
   "source": [
    "df['daily_decr30'].dtype"
   ]
  },
  {
   "cell_type": "markdown",
   "id": "1139eb6b",
   "metadata": {},
   "source": [
    "The should be a numeric and not object"
   ]
  },
  {
   "cell_type": "code",
   "execution_count": 38,
   "id": "f9b0a6df",
   "metadata": {},
   "outputs": [],
   "source": [
    "df['daily_decr30']=df['daily_decr30'].replace(regex=True, to_replace=['UA'],value='')"
   ]
  },
  {
   "cell_type": "code",
   "execution_count": 39,
   "id": "cc6ef56f",
   "metadata": {},
   "outputs": [],
   "source": [
    "df['daily_decr30'] = pd.to_numeric(df['daily_decr30'])"
   ]
  },
  {
   "cell_type": "code",
   "execution_count": 40,
   "id": "5548fe0b",
   "metadata": {},
   "outputs": [
    {
     "data": {
      "text/plain": [
       "dtype('float64')"
      ]
     },
     "execution_count": 40,
     "metadata": {},
     "output_type": "execute_result"
    }
   ],
   "source": [
    "df[\"daily_decr30\"].dtype"
   ]
  },
  {
   "cell_type": "markdown",
   "id": "e2472d4a",
   "metadata": {},
   "source": [
    "As shown, by removing UA we have converted the column to float"
   ]
  },
  {
   "cell_type": "code",
   "execution_count": 41,
   "id": "2ae3234d",
   "metadata": {},
   "outputs": [
    {
     "data": {
      "text/plain": [
       "51"
      ]
     },
     "execution_count": 41,
     "metadata": {},
     "output_type": "execute_result"
    }
   ],
   "source": [
    "df['daily_decr30'].isnull().sum()"
   ]
  },
  {
   "cell_type": "code",
   "execution_count": 42,
   "id": "26a6ad3c",
   "metadata": {},
   "outputs": [],
   "source": [
    "df['daily_decr30'] = df['daily_decr30'].fillna(df['daily_decr30'].mean())"
   ]
  },
  {
   "cell_type": "code",
   "execution_count": 43,
   "id": "c3b7cb44",
   "metadata": {},
   "outputs": [
    {
     "data": {
      "text/plain": [
       "0"
      ]
     },
     "execution_count": 43,
     "metadata": {},
     "output_type": "execute_result"
    }
   ],
   "source": [
    "df['daily_decr30'].isnull().sum()"
   ]
  },
  {
   "cell_type": "code",
   "execution_count": 44,
   "id": "65f94721",
   "metadata": {},
   "outputs": [
    {
     "data": {
      "text/plain": [
       "93.0"
      ]
     },
     "execution_count": 44,
     "metadata": {},
     "output_type": "execute_result"
    }
   ],
   "source": [
    "df['daily_decr30'].iloc[22780]"
   ]
  },
  {
   "cell_type": "markdown",
   "id": "0e75662f",
   "metadata": {},
   "source": [
    "Now 'UA' is removed"
   ]
  },
  {
   "cell_type": "markdown",
   "id": "fcdd9f69",
   "metadata": {},
   "source": [
    "## 4. daily_decr90: Daily amount spent from main account, averaged over last 90 days"
   ]
  },
  {
   "cell_type": "code",
   "execution_count": 46,
   "id": "e7a450b2",
   "metadata": {},
   "outputs": [
    {
     "data": {
      "text/plain": [
       "'UA76'"
      ]
     },
     "execution_count": 46,
     "metadata": {},
     "output_type": "execute_result"
    }
   ],
   "source": [
    "df['daily_decr90'].iloc[67272]"
   ]
  },
  {
   "cell_type": "markdown",
   "id": "e8e8cfba",
   "metadata": {},
   "source": [
    "It contain values with alphabets UA, negative values and large values with '.'\n",
    "\n",
    "It can be in negative and may contain float i.e. '.'\n",
    "\n",
    "Only UA seems to be as an error."
   ]
  },
  {
   "cell_type": "code",
   "execution_count": 47,
   "id": "af7b6162",
   "metadata": {},
   "outputs": [
    {
     "data": {
      "text/plain": [
       "dtype('O')"
      ]
     },
     "execution_count": 47,
     "metadata": {},
     "output_type": "execute_result"
    }
   ],
   "source": [
    "df['daily_decr90'].dtype"
   ]
  },
  {
   "cell_type": "markdown",
   "id": "ef47c111",
   "metadata": {},
   "source": [
    "The should be a numeric and not object"
   ]
  },
  {
   "cell_type": "code",
   "execution_count": 48,
   "id": "66f3a2e7",
   "metadata": {},
   "outputs": [],
   "source": [
    "df['daily_decr90']=df['daily_decr90'].replace(regex=True, to_replace=['UA'],value='')"
   ]
  },
  {
   "cell_type": "code",
   "execution_count": 49,
   "id": "d6d5295c",
   "metadata": {},
   "outputs": [],
   "source": [
    "df['daily_decr90'] = pd.to_numeric(df['daily_decr90'])"
   ]
  },
  {
   "cell_type": "code",
   "execution_count": 50,
   "id": "507284e7",
   "metadata": {},
   "outputs": [
    {
     "data": {
      "text/plain": [
       "dtype('float64')"
      ]
     },
     "execution_count": 50,
     "metadata": {},
     "output_type": "execute_result"
    }
   ],
   "source": [
    "df[\"daily_decr90\"].dtype"
   ]
  },
  {
   "cell_type": "markdown",
   "id": "9db9d60f",
   "metadata": {},
   "source": [
    "As shown, by removing UA we have converted the column to float"
   ]
  },
  {
   "cell_type": "code",
   "execution_count": 51,
   "id": "b3a9fbe0",
   "metadata": {},
   "outputs": [
    {
     "data": {
      "text/plain": [
       "42"
      ]
     },
     "execution_count": 51,
     "metadata": {},
     "output_type": "execute_result"
    }
   ],
   "source": [
    "df['daily_decr90'].isnull().sum()"
   ]
  },
  {
   "cell_type": "code",
   "execution_count": 52,
   "id": "3e6e1ffe",
   "metadata": {},
   "outputs": [],
   "source": [
    "df['daily_decr90'] = df['daily_decr90'].fillna(df['daily_decr90'].mean())"
   ]
  },
  {
   "cell_type": "code",
   "execution_count": 53,
   "id": "1e9f8ec4",
   "metadata": {},
   "outputs": [
    {
     "data": {
      "text/plain": [
       "0"
      ]
     },
     "execution_count": 53,
     "metadata": {},
     "output_type": "execute_result"
    }
   ],
   "source": [
    "df['daily_decr90'].isnull().sum()"
   ]
  },
  {
   "cell_type": "code",
   "execution_count": 54,
   "id": "e139e1fa",
   "metadata": {},
   "outputs": [
    {
     "data": {
      "text/plain": [
       "76.0"
      ]
     },
     "execution_count": 54,
     "metadata": {},
     "output_type": "execute_result"
    }
   ],
   "source": [
    "df['daily_decr90'].iloc[67272]"
   ]
  },
  {
   "cell_type": "markdown",
   "id": "a01545b4",
   "metadata": {},
   "source": [
    "Now 'UA' is removed"
   ]
  },
  {
   "cell_type": "markdown",
   "id": "f8dd62eb",
   "metadata": {},
   "source": [
    "## 5.rental_30: Average main account balance over last 30 days"
   ]
  },
  {
   "cell_type": "code",
   "execution_count": 57,
   "id": "5e9e4642",
   "metadata": {},
   "outputs": [
    {
     "data": {
      "text/plain": [
       "'UA87.93'"
      ]
     },
     "execution_count": 57,
     "metadata": {},
     "output_type": "execute_result"
    }
   ],
   "source": [
    "df['rental30'].iloc[1583]"
   ]
  },
  {
   "cell_type": "markdown",
   "id": "d9cfe4c1",
   "metadata": {},
   "source": [
    "It contain values with alphabets UA, negative values and large values with '.'\n",
    "\n",
    "It can be in negative and may contain float i.e. '.'\n",
    "\n",
    "Here UA, #NAME and ? seems to be as an errors."
   ]
  },
  {
   "cell_type": "code",
   "execution_count": 58,
   "id": "467fef6d",
   "metadata": {},
   "outputs": [
    {
     "data": {
      "text/plain": [
       "dtype('O')"
      ]
     },
     "execution_count": 58,
     "metadata": {},
     "output_type": "execute_result"
    }
   ],
   "source": [
    "df['rental30'].dtype"
   ]
  },
  {
   "cell_type": "markdown",
   "id": "3e765994",
   "metadata": {},
   "source": [
    "It should be a numeric and not object"
   ]
  },
  {
   "cell_type": "code",
   "execution_count": 59,
   "id": "6e28a0e1",
   "metadata": {},
   "outputs": [],
   "source": [
    "df['rental30']=df['rental30'].replace(regex=True, to_replace=['UA'],value='')"
   ]
  },
  {
   "cell_type": "code",
   "execution_count": 60,
   "id": "d3b1c68b",
   "metadata": {},
   "outputs": [
    {
     "data": {
      "text/html": [
       "<div>\n",
       "<style scoped>\n",
       "    .dataframe tbody tr th:only-of-type {\n",
       "        vertical-align: middle;\n",
       "    }\n",
       "\n",
       "    .dataframe tbody tr th {\n",
       "        vertical-align: top;\n",
       "    }\n",
       "\n",
       "    .dataframe thead th {\n",
       "        text-align: right;\n",
       "    }\n",
       "</style>\n",
       "<table border=\"1\" class=\"dataframe\">\n",
       "  <thead>\n",
       "    <tr style=\"text-align: right;\">\n",
       "      <th></th>\n",
       "      <th>daily_decr30</th>\n",
       "      <th>daily_decr90</th>\n",
       "      <th>rental30</th>\n",
       "    </tr>\n",
       "  </thead>\n",
       "  <tbody>\n",
       "    <tr>\n",
       "      <th>11563</th>\n",
       "      <td>66.309333</td>\n",
       "      <td>66.309333</td>\n",
       "      <td>357.6</td>\n",
       "    </tr>\n",
       "    <tr>\n",
       "      <th>11564</th>\n",
       "      <td>177.941333</td>\n",
       "      <td>177.941333</td>\n",
       "      <td>1479.15</td>\n",
       "    </tr>\n",
       "    <tr>\n",
       "      <th>11565</th>\n",
       "      <td>135.467333</td>\n",
       "      <td>135.467333</td>\n",
       "      <td>510</td>\n",
       "    </tr>\n",
       "    <tr>\n",
       "      <th>11566</th>\n",
       "      <td>131.475667</td>\n",
       "      <td>131.475667</td>\n",
       "      <td>3093.96</td>\n",
       "    </tr>\n",
       "    <tr>\n",
       "      <th>11567</th>\n",
       "      <td>21.860000</td>\n",
       "      <td>21.860000</td>\n",
       "      <td>#NAME?</td>\n",
       "    </tr>\n",
       "    <tr>\n",
       "      <th>11568</th>\n",
       "      <td>7239.593000</td>\n",
       "      <td>7269.870000</td>\n",
       "      <td>649.51</td>\n",
       "    </tr>\n",
       "  </tbody>\n",
       "</table>\n",
       "</div>"
      ],
      "text/plain": [
       "       daily_decr30  daily_decr90 rental30\n",
       "11563     66.309333     66.309333    357.6\n",
       "11564    177.941333    177.941333  1479.15\n",
       "11565    135.467333    135.467333      510\n",
       "11566    131.475667    131.475667  3093.96\n",
       "11567     21.860000     21.860000   #NAME?\n",
       "11568   7239.593000   7269.870000   649.51"
      ]
     },
     "execution_count": 60,
     "metadata": {},
     "output_type": "execute_result"
    }
   ],
   "source": [
    "df.iloc[11562:11568,3:6]"
   ]
  },
  {
   "cell_type": "markdown",
   "id": "7717dc05",
   "metadata": {},
   "source": [
    "Here after replacing 'UA' we will have to deal with #NAME?"
   ]
  },
  {
   "cell_type": "code",
   "execution_count": 61,
   "id": "713281f8",
   "metadata": {},
   "outputs": [],
   "source": [
    "df['rental30']=df['rental30'].replace(to_replace=['#NAME?'],value=np.nan)"
   ]
  },
  {
   "cell_type": "code",
   "execution_count": 62,
   "id": "1550d7cf",
   "metadata": {},
   "outputs": [
    {
     "data": {
      "text/plain": [
       "rental30       NaN\n",
       "rental90    #NAME?\n",
       "Name: 11821, dtype: object"
      ]
     },
     "execution_count": 62,
     "metadata": {},
     "output_type": "execute_result"
    }
   ],
   "source": [
    "df.iloc[11820,5:7]"
   ]
  },
  {
   "cell_type": "markdown",
   "id": "de2a0618",
   "metadata": {},
   "source": [
    "we will have to deal with ?"
   ]
  },
  {
   "cell_type": "code",
   "execution_count": 63,
   "id": "0a258fe4",
   "metadata": {},
   "outputs": [],
   "source": [
    "df['rental30']=df['rental30'].replace(to_replace=['?'],value=np.nan)"
   ]
  },
  {
   "cell_type": "code",
   "execution_count": 64,
   "id": "0a1745e5",
   "metadata": {
    "scrolled": true
   },
   "outputs": [
    {
     "data": {
      "text/plain": [
       "rental30       NaN\n",
       "rental90    #NAME?\n",
       "Name: 11821, dtype: object"
      ]
     },
     "execution_count": 64,
     "metadata": {},
     "output_type": "execute_result"
    }
   ],
   "source": [
    "df.iloc[11820,5:7]"
   ]
  },
  {
   "cell_type": "code",
   "execution_count": 65,
   "id": "1736b5c1",
   "metadata": {},
   "outputs": [],
   "source": [
    "df['rental30'] = pd.to_numeric(df['rental30'])"
   ]
  },
  {
   "cell_type": "code",
   "execution_count": 66,
   "id": "bbe7e1df",
   "metadata": {},
   "outputs": [
    {
     "data": {
      "text/plain": [
       "dtype('float64')"
      ]
     },
     "execution_count": 66,
     "metadata": {},
     "output_type": "execute_result"
    }
   ],
   "source": [
    "df['rental30'].dtype"
   ]
  },
  {
   "cell_type": "markdown",
   "id": "5b2c5b78",
   "metadata": {},
   "source": [
    "Now we can deal with np.nan values"
   ]
  },
  {
   "cell_type": "code",
   "execution_count": 67,
   "id": "57df2665",
   "metadata": {},
   "outputs": [
    {
     "data": {
      "text/plain": [
       "94"
      ]
     },
     "execution_count": 67,
     "metadata": {},
     "output_type": "execute_result"
    }
   ],
   "source": [
    "df['rental30'].isnull().sum()"
   ]
  },
  {
   "cell_type": "markdown",
   "id": "8fe8d73a",
   "metadata": {},
   "source": [
    "Now filling the null value with mean of that column"
   ]
  },
  {
   "cell_type": "code",
   "execution_count": 68,
   "id": "2b97952c",
   "metadata": {},
   "outputs": [],
   "source": [
    "df['rental30'] = df['rental30'].fillna(df['rental30'].mean())"
   ]
  },
  {
   "cell_type": "code",
   "execution_count": 69,
   "id": "abe60606",
   "metadata": {},
   "outputs": [
    {
     "data": {
      "text/html": [
       "<div>\n",
       "<style scoped>\n",
       "    .dataframe tbody tr th:only-of-type {\n",
       "        vertical-align: middle;\n",
       "    }\n",
       "\n",
       "    .dataframe tbody tr th {\n",
       "        vertical-align: top;\n",
       "    }\n",
       "\n",
       "    .dataframe thead th {\n",
       "        text-align: right;\n",
       "    }\n",
       "</style>\n",
       "<table border=\"1\" class=\"dataframe\">\n",
       "  <thead>\n",
       "    <tr style=\"text-align: right;\">\n",
       "      <th></th>\n",
       "      <th>daily_decr30</th>\n",
       "      <th>daily_decr90</th>\n",
       "      <th>rental30</th>\n",
       "    </tr>\n",
       "  </thead>\n",
       "  <tbody>\n",
       "    <tr>\n",
       "      <th>11563</th>\n",
       "      <td>66.309333</td>\n",
       "      <td>66.309333</td>\n",
       "      <td>357.60000</td>\n",
       "    </tr>\n",
       "    <tr>\n",
       "      <th>11564</th>\n",
       "      <td>177.941333</td>\n",
       "      <td>177.941333</td>\n",
       "      <td>1479.15000</td>\n",
       "    </tr>\n",
       "    <tr>\n",
       "      <th>11565</th>\n",
       "      <td>135.467333</td>\n",
       "      <td>135.467333</td>\n",
       "      <td>510.00000</td>\n",
       "    </tr>\n",
       "    <tr>\n",
       "      <th>11566</th>\n",
       "      <td>131.475667</td>\n",
       "      <td>131.475667</td>\n",
       "      <td>3093.96000</td>\n",
       "    </tr>\n",
       "    <tr>\n",
       "      <th>11567</th>\n",
       "      <td>21.860000</td>\n",
       "      <td>21.860000</td>\n",
       "      <td>2682.02897</td>\n",
       "    </tr>\n",
       "    <tr>\n",
       "      <th>11568</th>\n",
       "      <td>7239.593000</td>\n",
       "      <td>7269.870000</td>\n",
       "      <td>649.51000</td>\n",
       "    </tr>\n",
       "  </tbody>\n",
       "</table>\n",
       "</div>"
      ],
      "text/plain": [
       "       daily_decr30  daily_decr90    rental30\n",
       "11563     66.309333     66.309333   357.60000\n",
       "11564    177.941333    177.941333  1479.15000\n",
       "11565    135.467333    135.467333   510.00000\n",
       "11566    131.475667    131.475667  3093.96000\n",
       "11567     21.860000     21.860000  2682.02897\n",
       "11568   7239.593000   7269.870000   649.51000"
      ]
     },
     "execution_count": 69,
     "metadata": {},
     "output_type": "execute_result"
    }
   ],
   "source": [
    "df.iloc[11562:11568,3:6]"
   ]
  },
  {
   "cell_type": "markdown",
   "id": "ddd03afe",
   "metadata": {},
   "source": [
    "## 6.rental90: Average main account balance over last 90 days"
   ]
  },
  {
   "cell_type": "code",
   "execution_count": 72,
   "id": "dd1d5bb6",
   "metadata": {},
   "outputs": [
    {
     "data": {
      "text/plain": [
       "'UA84.12'"
      ]
     },
     "execution_count": 72,
     "metadata": {},
     "output_type": "execute_result"
    }
   ],
   "source": [
    "df['rental90'].iloc[4567]"
   ]
  },
  {
   "cell_type": "markdown",
   "id": "68178cb8",
   "metadata": {},
   "source": [
    "It contain values with alphabets UA, negative values and large values with '.'\n",
    "\n",
    "It can be in negative and may contain float i.e. '.'\n",
    "\n",
    "Here UA, #NAME and ? seems to be as an errors."
   ]
  },
  {
   "cell_type": "code",
   "execution_count": 73,
   "id": "93ccab9c",
   "metadata": {},
   "outputs": [
    {
     "data": {
      "text/plain": [
       "dtype('O')"
      ]
     },
     "execution_count": 73,
     "metadata": {},
     "output_type": "execute_result"
    }
   ],
   "source": [
    "df['rental90'].dtype"
   ]
  },
  {
   "cell_type": "markdown",
   "id": "296f4541",
   "metadata": {},
   "source": [
    "It should be a numeric and not object"
   ]
  },
  {
   "cell_type": "code",
   "execution_count": 74,
   "id": "00ad5b6f",
   "metadata": {},
   "outputs": [],
   "source": [
    "df['rental90']=df['rental90'].replace(regex=True, to_replace=['UA'],value='')"
   ]
  },
  {
   "cell_type": "code",
   "execution_count": 75,
   "id": "621fab01",
   "metadata": {},
   "outputs": [
    {
     "data": {
      "text/html": [
       "<div>\n",
       "<style scoped>\n",
       "    .dataframe tbody tr th:only-of-type {\n",
       "        vertical-align: middle;\n",
       "    }\n",
       "\n",
       "    .dataframe tbody tr th {\n",
       "        vertical-align: top;\n",
       "    }\n",
       "\n",
       "    .dataframe thead th {\n",
       "        text-align: right;\n",
       "    }\n",
       "</style>\n",
       "<table border=\"1\" class=\"dataframe\">\n",
       "  <thead>\n",
       "    <tr style=\"text-align: right;\">\n",
       "      <th></th>\n",
       "      <th>daily_decr30</th>\n",
       "      <th>daily_decr90</th>\n",
       "      <th>rental30</th>\n",
       "      <th>rental90</th>\n",
       "    </tr>\n",
       "  </thead>\n",
       "  <tbody>\n",
       "    <tr>\n",
       "      <th>11563</th>\n",
       "      <td>66.309333</td>\n",
       "      <td>66.309333</td>\n",
       "      <td>357.60000</td>\n",
       "      <td>357.6</td>\n",
       "    </tr>\n",
       "    <tr>\n",
       "      <th>11564</th>\n",
       "      <td>177.941333</td>\n",
       "      <td>177.941333</td>\n",
       "      <td>1479.15000</td>\n",
       "      <td>1479.15</td>\n",
       "    </tr>\n",
       "    <tr>\n",
       "      <th>11565</th>\n",
       "      <td>135.467333</td>\n",
       "      <td>135.467333</td>\n",
       "      <td>510.00000</td>\n",
       "      <td>510</td>\n",
       "    </tr>\n",
       "    <tr>\n",
       "      <th>11566</th>\n",
       "      <td>131.475667</td>\n",
       "      <td>131.475667</td>\n",
       "      <td>3093.96000</td>\n",
       "      <td>3093.96</td>\n",
       "    </tr>\n",
       "    <tr>\n",
       "      <th>11567</th>\n",
       "      <td>21.860000</td>\n",
       "      <td>21.860000</td>\n",
       "      <td>2682.02897</td>\n",
       "      <td>#NAME?</td>\n",
       "    </tr>\n",
       "    <tr>\n",
       "      <th>11568</th>\n",
       "      <td>7239.593000</td>\n",
       "      <td>7269.870000</td>\n",
       "      <td>649.51000</td>\n",
       "      <td>688.51</td>\n",
       "    </tr>\n",
       "  </tbody>\n",
       "</table>\n",
       "</div>"
      ],
      "text/plain": [
       "       daily_decr30  daily_decr90    rental30 rental90\n",
       "11563     66.309333     66.309333   357.60000    357.6\n",
       "11564    177.941333    177.941333  1479.15000  1479.15\n",
       "11565    135.467333    135.467333   510.00000      510\n",
       "11566    131.475667    131.475667  3093.96000  3093.96\n",
       "11567     21.860000     21.860000  2682.02897   #NAME?\n",
       "11568   7239.593000   7269.870000   649.51000   688.51"
      ]
     },
     "execution_count": 75,
     "metadata": {},
     "output_type": "execute_result"
    }
   ],
   "source": [
    "df.iloc[11562:11568,3:7]"
   ]
  },
  {
   "cell_type": "markdown",
   "id": "e0b71ac2",
   "metadata": {},
   "source": [
    "Here after replacing 'UA' we will have to deal with #NAME?"
   ]
  },
  {
   "cell_type": "code",
   "execution_count": 76,
   "id": "3ead62b9",
   "metadata": {},
   "outputs": [],
   "source": [
    "df['rental90']=df['rental90'].replace(to_replace=['#NAME?'],value=np.nan)"
   ]
  },
  {
   "cell_type": "code",
   "execution_count": 77,
   "id": "93f2f7c2",
   "metadata": {},
   "outputs": [
    {
     "data": {
      "text/plain": [
       "rental30    2682.02897\n",
       "rental90           NaN\n",
       "Name: 11821, dtype: object"
      ]
     },
     "execution_count": 77,
     "metadata": {},
     "output_type": "execute_result"
    }
   ],
   "source": [
    "df.iloc[11820,5:7]"
   ]
  },
  {
   "cell_type": "markdown",
   "id": "3157dfb1",
   "metadata": {},
   "source": [
    "we will have to deal with ?"
   ]
  },
  {
   "cell_type": "code",
   "execution_count": 78,
   "id": "acf431d4",
   "metadata": {},
   "outputs": [],
   "source": [
    "df['rental90']=df['rental90'].replace(to_replace=['?'],value=np.nan)"
   ]
  },
  {
   "cell_type": "code",
   "execution_count": 79,
   "id": "5fd3bc56",
   "metadata": {
    "scrolled": true
   },
   "outputs": [
    {
     "data": {
      "text/plain": [
       "rental30    2682.02897\n",
       "rental90           NaN\n",
       "Name: 11821, dtype: object"
      ]
     },
     "execution_count": 79,
     "metadata": {},
     "output_type": "execute_result"
    }
   ],
   "source": [
    "df.iloc[11820,5:7]"
   ]
  },
  {
   "cell_type": "code",
   "execution_count": 80,
   "id": "5a9e57ff",
   "metadata": {},
   "outputs": [],
   "source": [
    "df['rental90'] = pd.to_numeric(df['rental90'])"
   ]
  },
  {
   "cell_type": "code",
   "execution_count": 81,
   "id": "3e695e82",
   "metadata": {},
   "outputs": [
    {
     "data": {
      "text/plain": [
       "dtype('float64')"
      ]
     },
     "execution_count": 81,
     "metadata": {},
     "output_type": "execute_result"
    }
   ],
   "source": [
    "df['rental90'].dtype"
   ]
  },
  {
   "cell_type": "markdown",
   "id": "c6a89386",
   "metadata": {},
   "source": [
    "Now we can deal with np.nan values"
   ]
  },
  {
   "cell_type": "code",
   "execution_count": 82,
   "id": "0d4f3b8d",
   "metadata": {},
   "outputs": [
    {
     "data": {
      "text/plain": [
       "79"
      ]
     },
     "execution_count": 82,
     "metadata": {},
     "output_type": "execute_result"
    }
   ],
   "source": [
    "df['rental90'].isnull().sum()"
   ]
  },
  {
   "cell_type": "markdown",
   "id": "d61633be",
   "metadata": {},
   "source": [
    "Now filling the null value with mean of that column"
   ]
  },
  {
   "cell_type": "code",
   "execution_count": 83,
   "id": "d046af9b",
   "metadata": {},
   "outputs": [],
   "source": [
    "df['rental90'] = df['rental90'].fillna(df['rental90'].mean())"
   ]
  },
  {
   "cell_type": "code",
   "execution_count": 84,
   "id": "ff3d7c7f",
   "metadata": {},
   "outputs": [
    {
     "data": {
      "text/html": [
       "<div>\n",
       "<style scoped>\n",
       "    .dataframe tbody tr th:only-of-type {\n",
       "        vertical-align: middle;\n",
       "    }\n",
       "\n",
       "    .dataframe tbody tr th {\n",
       "        vertical-align: top;\n",
       "    }\n",
       "\n",
       "    .dataframe thead th {\n",
       "        text-align: right;\n",
       "    }\n",
       "</style>\n",
       "<table border=\"1\" class=\"dataframe\">\n",
       "  <thead>\n",
       "    <tr style=\"text-align: right;\">\n",
       "      <th></th>\n",
       "      <th>daily_decr30</th>\n",
       "      <th>daily_decr90</th>\n",
       "      <th>rental30</th>\n",
       "      <th>rental90</th>\n",
       "    </tr>\n",
       "  </thead>\n",
       "  <tbody>\n",
       "    <tr>\n",
       "      <th>11563</th>\n",
       "      <td>66.309333</td>\n",
       "      <td>66.309333</td>\n",
       "      <td>357.60000</td>\n",
       "      <td>357.600000</td>\n",
       "    </tr>\n",
       "    <tr>\n",
       "      <th>11564</th>\n",
       "      <td>177.941333</td>\n",
       "      <td>177.941333</td>\n",
       "      <td>1479.15000</td>\n",
       "      <td>1479.150000</td>\n",
       "    </tr>\n",
       "    <tr>\n",
       "      <th>11565</th>\n",
       "      <td>135.467333</td>\n",
       "      <td>135.467333</td>\n",
       "      <td>510.00000</td>\n",
       "      <td>510.000000</td>\n",
       "    </tr>\n",
       "    <tr>\n",
       "      <th>11566</th>\n",
       "      <td>131.475667</td>\n",
       "      <td>131.475667</td>\n",
       "      <td>3093.96000</td>\n",
       "      <td>3093.960000</td>\n",
       "    </tr>\n",
       "    <tr>\n",
       "      <th>11567</th>\n",
       "      <td>21.860000</td>\n",
       "      <td>21.860000</td>\n",
       "      <td>2682.02897</td>\n",
       "      <td>3471.270741</td>\n",
       "    </tr>\n",
       "    <tr>\n",
       "      <th>11568</th>\n",
       "      <td>7239.593000</td>\n",
       "      <td>7269.870000</td>\n",
       "      <td>649.51000</td>\n",
       "      <td>688.510000</td>\n",
       "    </tr>\n",
       "  </tbody>\n",
       "</table>\n",
       "</div>"
      ],
      "text/plain": [
       "       daily_decr30  daily_decr90    rental30     rental90\n",
       "11563     66.309333     66.309333   357.60000   357.600000\n",
       "11564    177.941333    177.941333  1479.15000  1479.150000\n",
       "11565    135.467333    135.467333   510.00000   510.000000\n",
       "11566    131.475667    131.475667  3093.96000  3093.960000\n",
       "11567     21.860000     21.860000  2682.02897  3471.270741\n",
       "11568   7239.593000   7269.870000   649.51000   688.510000"
      ]
     },
     "execution_count": 84,
     "metadata": {},
     "output_type": "execute_result"
    }
   ],
   "source": [
    "df.iloc[11562:11568,3:7]"
   ]
  },
  {
   "cell_type": "markdown",
   "id": "1e9fb260",
   "metadata": {},
   "source": [
    "## 7. pcircle: telecom circle"
   ]
  },
  {
   "cell_type": "code",
   "execution_count": 85,
   "id": "ca0d6221",
   "metadata": {},
   "outputs": [
    {
     "data": {
      "text/plain": [
       "UPW    190001\n",
       "Name: pcircle, dtype: int64"
      ]
     },
     "execution_count": 85,
     "metadata": {},
     "output_type": "execute_result"
    }
   ],
   "source": [
    "df['pcircle'].value_counts()"
   ]
  },
  {
   "cell_type": "code",
   "execution_count": 86,
   "id": "4828e213",
   "metadata": {},
   "outputs": [
    {
     "data": {
      "text/plain": [
       "0"
      ]
     },
     "execution_count": 86,
     "metadata": {},
     "output_type": "execute_result"
    }
   ],
   "source": [
    "df['pcircle'].isnull().sum()"
   ]
  },
  {
   "cell_type": "markdown",
   "id": "548f5c12",
   "metadata": {},
   "source": [
    "The data is already cleared"
   ]
  },
  {
   "cell_type": "markdown",
   "id": "abffe3a0",
   "metadata": {},
   "source": [
    "## 8. pdate: date"
   ]
  },
  {
   "cell_type": "code",
   "execution_count": 87,
   "id": "9a271b08",
   "metadata": {},
   "outputs": [
    {
     "data": {
      "text/plain": [
       "0"
      ]
     },
     "execution_count": 87,
     "metadata": {},
     "output_type": "execute_result"
    }
   ],
   "source": [
    "df['pdate'].isnull().sum()"
   ]
  },
  {
   "cell_type": "code",
   "execution_count": 88,
   "id": "9fbcc271",
   "metadata": {},
   "outputs": [
    {
     "data": {
      "text/plain": [
       "07-04-2016    2857\n",
       "07-05-2016    2823\n",
       "07-07-2016    2819\n",
       "6/17/2016     2814\n",
       "6/20/2016     2808\n",
       "              ... \n",
       "06-04-2016    1413\n",
       "8/18/2016     1281\n",
       "8/19/2016     1021\n",
       "8/20/2016      717\n",
       "8/21/2016      291\n",
       "Name: pdate, Length: 82, dtype: int64"
      ]
     },
     "execution_count": 88,
     "metadata": {},
     "output_type": "execute_result"
    }
   ],
   "source": [
    "df['pdate'].value_counts()"
   ]
  },
  {
   "cell_type": "markdown",
   "id": "f3abb047",
   "metadata": {},
   "source": [
    "The dates are in format 07-04-2016 and 8/21/2016"
   ]
  },
  {
   "cell_type": "markdown",
   "id": "59b8db3e",
   "metadata": {},
   "source": [
    "So we can change it to one single format as per sample data 'yy-mm-dd' ex. 2016-08-21"
   ]
  },
  {
   "cell_type": "code",
   "execution_count": 89,
   "id": "3fcc7d98",
   "metadata": {},
   "outputs": [
    {
     "data": {
      "text/plain": [
       "dtype('O')"
      ]
     },
     "execution_count": 89,
     "metadata": {},
     "output_type": "execute_result"
    }
   ],
   "source": [
    "df['pdate'].dtype"
   ]
  },
  {
   "cell_type": "markdown",
   "id": "acff5397",
   "metadata": {},
   "source": [
    "Firstly, we need to change the data type to date"
   ]
  },
  {
   "cell_type": "code",
   "execution_count": 90,
   "id": "fc040659",
   "metadata": {},
   "outputs": [],
   "source": [
    "df['pdate'] = pd.to_datetime(df['pdate'])"
   ]
  },
  {
   "cell_type": "code",
   "execution_count": 91,
   "id": "036a3998",
   "metadata": {},
   "outputs": [
    {
     "data": {
      "text/plain": [
       "dtype('<M8[ns]')"
      ]
     },
     "execution_count": 91,
     "metadata": {},
     "output_type": "execute_result"
    }
   ],
   "source": [
    "df['pdate'].dtype"
   ]
  },
  {
   "cell_type": "markdown",
   "id": "9b49787f",
   "metadata": {},
   "source": [
    "Now, changing the date format"
   ]
  },
  {
   "cell_type": "code",
   "execution_count": 92,
   "id": "68e14372",
   "metadata": {},
   "outputs": [],
   "source": [
    "df['pdate']= df['pdate'].dt.strftime(\"%y-%m-%d\")"
   ]
  },
  {
   "cell_type": "code",
   "execution_count": 93,
   "id": "4b4703e4",
   "metadata": {},
   "outputs": [
    {
     "data": {
      "text/plain": [
       "16-07-04    2857\n",
       "16-07-05    2823\n",
       "16-07-07    2819\n",
       "16-06-17    2814\n",
       "16-06-20    2808\n",
       "            ... \n",
       "16-06-04    1413\n",
       "16-08-18    1281\n",
       "16-08-19    1021\n",
       "16-08-20     717\n",
       "16-08-21     291\n",
       "Name: pdate, Length: 82, dtype: int64"
      ]
     },
     "execution_count": 93,
     "metadata": {},
     "output_type": "execute_result"
    }
   ],
   "source": [
    "df['pdate'].value_counts()"
   ]
  },
  {
   "cell_type": "markdown",
   "id": "48d93cf5",
   "metadata": {},
   "source": [
    "# Saving the cleaned data"
   ]
  },
  {
   "cell_type": "code",
   "execution_count": 94,
   "id": "5a70ba24",
   "metadata": {},
   "outputs": [
    {
     "name": "stdout",
     "output_type": "stream",
     "text": [
      "<class 'pandas.core.frame.DataFrame'>\n",
      "Int64Index: 190001 entries, 1 to 190001\n",
      "Data columns (total 36 columns):\n",
      " #   Column                Non-Null Count   Dtype  \n",
      "---  ------                --------------   -----  \n",
      " 0   label                 190001 non-null  int64  \n",
      " 1   msisdn                190001 non-null  int64  \n",
      " 2   aon                   190001 non-null  float64\n",
      " 3   daily_decr30          190001 non-null  float64\n",
      " 4   daily_decr90          190001 non-null  float64\n",
      " 5   rental30              190001 non-null  float64\n",
      " 6   rental90              190001 non-null  float64\n",
      " 7   last_rech_date_ma     190001 non-null  float64\n",
      " 8   last_rech_date_da     190001 non-null  float64\n",
      " 9   last_rech_amt_ma      190001 non-null  int64  \n",
      " 10  cnt_ma_rech30         190001 non-null  int64  \n",
      " 11  fr_ma_rech30          190001 non-null  float64\n",
      " 12  sumamnt_ma_rech30     190001 non-null  float64\n",
      " 13  medianamnt_ma_rech30  190001 non-null  float64\n",
      " 14  medianmarechprebal30  190001 non-null  float64\n",
      " 15  cnt_ma_rech90         190001 non-null  int64  \n",
      " 16  fr_ma_rech90          190001 non-null  int64  \n",
      " 17  sumamnt_ma_rech90     190001 non-null  int64  \n",
      " 18  medianamnt_ma_rech90  190001 non-null  float64\n",
      " 19  medianmarechprebal90  190001 non-null  float64\n",
      " 20  cnt_da_rech30         190001 non-null  float64\n",
      " 21  fr_da_rech30          190001 non-null  float64\n",
      " 22  cnt_da_rech90         190001 non-null  int64  \n",
      " 23  fr_da_rech90          190001 non-null  int64  \n",
      " 24  cnt_loans30           190001 non-null  int64  \n",
      " 25  amnt_loans30          190001 non-null  int64  \n",
      " 26  maxamnt_loans30       190001 non-null  float64\n",
      " 27  medianamnt_loans30    190001 non-null  float64\n",
      " 28  cnt_loans90           190001 non-null  float64\n",
      " 29  amnt_loans90          190001 non-null  int64  \n",
      " 30  maxamnt_loans90       190001 non-null  int64  \n",
      " 31  medianamnt_loans90    190001 non-null  float64\n",
      " 32  payback30             190001 non-null  float64\n",
      " 33  payback90             190001 non-null  float64\n",
      " 34  pcircle               190001 non-null  object \n",
      " 35  pdate                 190001 non-null  object \n",
      "dtypes: float64(21), int64(13), object(2)\n",
      "memory usage: 53.6+ MB\n"
     ]
    }
   ],
   "source": [
    "df.info()"
   ]
  },
  {
   "cell_type": "code",
   "execution_count": 95,
   "id": "ac950937",
   "metadata": {},
   "outputs": [
    {
     "data": {
      "text/plain": [
       "label                   0\n",
       "msisdn                  0\n",
       "aon                     0\n",
       "daily_decr30            0\n",
       "daily_decr90            0\n",
       "rental30                0\n",
       "rental90                0\n",
       "last_rech_date_ma       0\n",
       "last_rech_date_da       0\n",
       "last_rech_amt_ma        0\n",
       "cnt_ma_rech30           0\n",
       "fr_ma_rech30            0\n",
       "sumamnt_ma_rech30       0\n",
       "medianamnt_ma_rech30    0\n",
       "medianmarechprebal30    0\n",
       "cnt_ma_rech90           0\n",
       "fr_ma_rech90            0\n",
       "sumamnt_ma_rech90       0\n",
       "medianamnt_ma_rech90    0\n",
       "medianmarechprebal90    0\n",
       "cnt_da_rech30           0\n",
       "fr_da_rech30            0\n",
       "cnt_da_rech90           0\n",
       "fr_da_rech90            0\n",
       "cnt_loans30             0\n",
       "amnt_loans30            0\n",
       "maxamnt_loans30         0\n",
       "medianamnt_loans30      0\n",
       "cnt_loans90             0\n",
       "amnt_loans90            0\n",
       "maxamnt_loans90         0\n",
       "medianamnt_loans90      0\n",
       "payback30               0\n",
       "payback90               0\n",
       "pcircle                 0\n",
       "pdate                   0\n",
       "dtype: int64"
      ]
     },
     "execution_count": 95,
     "metadata": {},
     "output_type": "execute_result"
    }
   ],
   "source": [
    "df.isnull().sum()"
   ]
  },
  {
   "cell_type": "code",
   "execution_count": 96,
   "id": "db17a0d6",
   "metadata": {},
   "outputs": [],
   "source": [
    "df.to_csv(\"Major Project-Cleaned Data.csv\")"
   ]
  },
  {
   "cell_type": "code",
   "execution_count": null,
   "id": "4eb8c1f3",
   "metadata": {},
   "outputs": [],
   "source": []
  }
 ],
 "metadata": {
  "kernelspec": {
   "display_name": "Python 3 (ipykernel)",
   "language": "python",
   "name": "python3"
  },
  "language_info": {
   "codemirror_mode": {
    "name": "ipython",
    "version": 3
   },
   "file_extension": ".py",
   "mimetype": "text/x-python",
   "name": "python",
   "nbconvert_exporter": "python",
   "pygments_lexer": "ipython3",
   "version": "3.9.7"
  }
 },
 "nbformat": 4,
 "nbformat_minor": 5
}
